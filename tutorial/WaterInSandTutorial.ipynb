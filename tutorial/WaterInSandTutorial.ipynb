{
 "cells": [
  {
   "cell_type": "markdown",
   "id": "602b1ed5",
   "metadata": {},
   "source": [
    "# Studying water in porous media using neutron imaging\n",
    "Anders Kaestner  \n",
    "Laboratory for Neutron Scattering and Imaging  \n",
    "Paul Scherrer Institut  \n",
    "Switzerland\n",
    "\n",
    "[![DOI](https://zenodo.org/badge/460161622.svg)](https://zenodo.org/badge/latestdoi/460161622)"
   ]
  },
  {
   "cell_type": "markdown",
   "id": "e45d6966",
   "metadata": {},
   "source": [
    "## Tutorial objectives\n",
    "\n",
    "- Learning how to work with images in python.\n",
    "- Understanding how the water content can be quantified from images.\n",
    "    - Normalization\n",
    "    - Correcting for scattering\n",
    "    - Estimating the attenation coefficient of water (video demonstration).\n",
    "- Planning a real time imaging experiment.\n",
    "    - Finding pixel size and exposure time.\n",
    "- Detecting the position of a water front in a time series.\n",
    "    - Performing a capillary rise experiment (video demonstrations).\n",
    "    - Reduction"
   ]
  },
  {
   "cell_type": "markdown",
   "id": "c526ad38",
   "metadata": {},
   "source": [
    "### Loading some needed packages"
   ]
  },
  {
   "cell_type": "code",
   "execution_count": null,
   "id": "fb3a75bd",
   "metadata": {},
   "outputs": [],
   "source": [
    "import numpy as np\n",
    "import matplotlib.pyplot as plt\n",
    "import pandas as pd\n",
    "import tifffile as tiff\n",
    "import skimage.filters as flt\n",
    "import amglib.bb as bb"
   ]
  },
  {
   "cell_type": "markdown",
   "id": "07c070c1",
   "metadata": {},
   "source": [
    "## Working with images\n",
    "In this section you will be given some useful image operations that you'll need during the tutorial."
   ]
  },
  {
   "cell_type": "markdown",
   "id": "1c78a15f",
   "metadata": {},
   "source": [
    "### Load and inspect images\n",
    "In this tutorial, we will work with tiff images. These are best read using the ```tifffile``` package. "
   ]
  },
  {
   "cell_type": "code",
   "execution_count": null,
   "id": "77773962",
   "metadata": {},
   "outputs": [],
   "source": [
    "img=tiff.imread('../data/stepwedge/exp10s_h2o.tif')"
   ]
  },
  {
   "cell_type": "markdown",
   "id": "6770013b",
   "metadata": {},
   "source": [
    "The ```imread``` can read single and multi-frame tiff images. Multi-frame are either volumes or time-series of 2D-images.\n",
    "\n",
    "The loaded image is essentially a large 2D or 3D matrix and inspecting the individual number does rarely make sense. Therefore, we need a way to display the images. This is provided by the package ```matplotlib.pyplot```:"
   ]
  },
  {
   "cell_type": "code",
   "execution_count": null,
   "id": "31aae0a4",
   "metadata": {},
   "outputs": [],
   "source": [
    "plt.imshow(img)"
   ]
  },
  {
   "cell_type": "markdown",
   "id": "ddb2fdca",
   "metadata": {},
   "source": [
    "This image has some outliers and the relevant information is too dark. This can be adjusted using ```vmin``` and ```vmax```."
   ]
  },
  {
   "cell_type": "code",
   "execution_count": null,
   "id": "fe1b2f1a",
   "metadata": {
    "scrolled": true
   },
   "outputs": [],
   "source": [
    "plt.imshow(img,vmin=300, vmax=4000);"
   ]
  },
  {
   "cell_type": "markdown",
   "id": "4c0c3a7c",
   "metadata": {},
   "source": [
    "We should also add some decorations like axis labels, title and colorbar to the image."
   ]
  },
  {
   "cell_type": "code",
   "execution_count": null,
   "id": "068dda9b",
   "metadata": {
    "scrolled": true
   },
   "outputs": [],
   "source": [
    "plt.imshow(img,vmin=300, vmax=4000);\n",
    "plt.colorbar(shrink=0.75)\n",
    "plt.title('Step wedge')\n",
    "plt.xlabel('x axis [pixels]')\n",
    "plt.ylabel('y axis [pixels]');"
   ]
  },
  {
   "cell_type": "markdown",
   "id": "a785d936",
   "metadata": {},
   "source": [
    "We may not want to work with both wedges at the same time. Then we can crop using array slicing. The intervals are give with the colon separator e.g. here 750:1450 means we use the columns in this interval. Note also that the rows are specified with a single colon. This means we use all rows."
   ]
  },
  {
   "cell_type": "code",
   "execution_count": null,
   "id": "ebc87451",
   "metadata": {},
   "outputs": [],
   "source": [
    "plt.imshow(img[:,750:1450],vmin=300, vmax=4000);\n",
    "plt.colorbar(shrink=0.75)\n",
    "plt.title('Cropped step wedge')\n",
    "plt.xlabel('x axis [pixels]')\n",
    "plt.ylabel('y axis [pixels]');"
   ]
  },
  {
   "cell_type": "markdown",
   "id": "4e0eb6db",
   "metadata": {},
   "source": [
    "### Image calculations\n",
    "The images are often manipulated pixelwise the arithmetic operations are applied for each pixel in the image individually. This can be done with two images with the same shape or with constants\n",
    "\n",
    "```python\n",
    "c=a+b\n",
    "d=3.14*c\n",
    "f=(c-a)/b\n",
    "```\n",
    "\n",
    "With the numpy package you can also apply many functions \n",
    "```python\n",
    "c=np.log(b)\n",
    "a=np.sin(x)\n",
    "```"
   ]
  },
  {
   "cell_type": "markdown",
   "id": "21d25b14",
   "metadata": {},
   "source": [
    "### Working on selected pixels\n",
    "Sometimes it is needed to adjust a selection of pixels to avoid bad calculations like division by zero etc.\n",
    "\n",
    "```python\n",
    "a[a<1]=1\n",
    "```\n",
    "finds all pixels with values less than one and replaces them by one."
   ]
  },
  {
   "cell_type": "markdown",
   "id": "67542743",
   "metadata": {},
   "source": [
    "## Determining the attenuation coefficient of water\n",
    "Neutrons are very sensitive to hydrogen. This fact is often used in neutron imaging to measure the local water content in a sample. The thickness of water behind each pixel can be determined using Beer-Lambert's law\n",
    "\n",
    "$$I_{wet}=I_0 e^{-\\int_L \\mu(x)dx}$$\n",
    "\n",
    "which simplifies to \n",
    "\n",
    "$$I=I_0 e^{-\\left(l_{H_2O}\\cdot\\mu_{H_2O}+l_{sand}\\cdot\\mu_{sand}+l_{container}\\cdot\\mu_{container}\\right)}$$\n",
    "\n",
    "<img src=\"figures/porous_media_sand.svg\" style=\"height:200px\" />\n",
    "\n",
    "The terms for _sand_ and _container_ can be removed with help of reference images, which leaves us with the term for water $l_{H_2O}\\cdot\\mu_{H_2O}$. Here, $l_{H_2O}$ is the thinkness of water which is the information we want to know and $\\mu_{H_2O}$ is the attenuation coefficient of water. Now, this measurement provides more information than we actually need. Therefore, we need a reference meassurement if the container with dry sand. \n",
    "\n",
    "$$I_{dry}=I_0 e^{-\\left(l_{sand}\\cdot\\mu_{sand}+l_{container}\\cdot\\mu_{container}\\right)}$$\n",
    "\n",
    "Dividing $I_{wet}$ by $I_{dry}$ like\n",
    "\n",
    "$$T_{H_2O}=\\frac{I_{wet}}{I_{dry}}=e^{-l_{H_2O}\\cdot\\mu_{H_2O}}$$\n",
    "\n",
    "Gives us the transmission contribution of water. This result still doesn't tell us the water thickness. For that, we need to know the attenuation coefficient of water $\\mu_{H_2O}$ which we will estimate in the first exercise."
   ]
  },
  {
   "cell_type": "markdown",
   "id": "06992635",
   "metadata": {},
   "source": [
    "### Using a step wedge\n",
    "A step wedge is a wedge shaped device with step wise increasing material thickness. This allows to determine the attenuation coefficient for different thicknesses and thereby increasing the accuracy of the estimate compared to measuring for a single thickness.  \n",
    "\n",
    "<img src=\"figures/step_wedge.svg\" style=\"height:300px\"/>\n",
    "\n",
    "A step wedge for liquids is a container in which you pour the liquid. It is best to use a container with constant wall thickness to reduce the uncertainty of changing amounts of material besides the liqiud itself. The wedges used in this experiment have the steps\n",
    "0.5, 1.0, 1.5, 2.0, 2.5 mm for the thinner wedge and 3.0, 3.5, 4.0, 4.5, 5.0 mm for the thicker wedge.\n",
    "\n",
    "For this task you'll need a collection of images.\n",
    "1. Reference images, open beam and dark current.\n",
    "2. One image of the empty container.\n",
    "3. One image of the filled container.\n",
    "\n",
    "It is important that the contatiner is not displaced between 2. and 3., otherwise there will be normalization errors. The data is located in the folder ```../data/stepwedge``` where the filenames indicate the file contents and also which exposure time was used."
   ]
  },
  {
   "cell_type": "markdown",
   "id": "283f314e",
   "metadata": {},
   "source": [
    "### Computing the attenuation coefficient - part 1\n",
    "In this exercise you will load an image with a stepwedge and reference images for open beam and dark current. These images will be used to calculate $\\mu$ for different thicknesses. Please note here that the step wedge container material is also included in the image. This means that you will include the contribution of $l_{container}\\cdot\\mu_{container}$ in your measurement. How can you compensate for this term?"
   ]
  },
  {
   "cell_type": "code",
   "execution_count": null,
   "id": "e5337bde",
   "metadata": {
    "scrolled": true
   },
   "outputs": [],
   "source": [
    "# Load and inspect the images (your code)\n",
    "\n",
    "dc    = \n",
    "ob    = \n",
    "empty = \n",
    "h2o   = "
   ]
  },
  {
   "cell_type": "code",
   "execution_count": null,
   "id": "a579ad4a",
   "metadata": {},
   "outputs": [],
   "source": [
    "# Solution\n",
    "dc    = tiff.imread('../data/stepwedge/exp60s_dc.tif')\n",
    "ob    = tiff.imread('../data/stepwedge/exp60s_ob.tif')\n",
    "empty = tiff.imread('../data/stepwedge/exp60s_empty.tif')\n",
    "h2o   = tiff.imread('../data/stepwedge/exp60s_h2o.tif')\n",
    "\n",
    "fig, ax = plt.subplots(1,4,figsize=(15,5))\n",
    "\n",
    "ax[0].imshow(dc,vmin=200,vmax=400)\n",
    "ax[0].set_title('DC')\n",
    "ax[1].imshow(ob,vmin=300,vmax=20000)\n",
    "ax[1].set_title('OB')\n",
    "ax[2].imshow(empty,vmin=300,vmax=20000)\n",
    "ax[2].set_title('Empty')\n",
    "ax[3].imshow(h2o,vmin=300,vmax=20000)\n",
    "ax[3].set_title('H2O');"
   ]
  },
  {
   "cell_type": "markdown",
   "id": "d5df1519",
   "metadata": {},
   "source": [
    "Ideally, you should be able to calculate\n",
    "$$p=\\int_L \\mu(x)dx= -log\\left(\\frac{I}{I_0}\\right)$$\n",
    "Technically, there are two details to handle when you want to normalize your images\n",
    "1. The detector adds a bias to the images due to the dark current noise.\n",
    "2. The neutron source is not operating with constant flux\n",
    "\n",
    "<img src=\"figures/hipa-info.png\" style=\"height:200px\"/>\n",
    "\n",
    "Therefore, we have to modify the equation to \n",
    "$$p=\\int_L \\mu(x)dx= -log\\left(\\frac{I-I_{DC}}{I_0-I_{DC}}\\cdot \\frac{D(I_0-I_{DC})}{D(I-I_{DC})}\\right)$$\n",
    "where $I_0$ is a dark current image and $D(\\cdot)$ is a dose operator. The dose is often measured as the average gray level in a region on the side of the measured object. To do this you have to identify the coordinates of the region you like to use and use array slicing and the average operation, e.g. ```img[100:150, 200:250].mean()``` will compute the average value in the region of rows 100 to 150 and columns 200 to 250. The logarithm function is provided by numpy as ```np.log()```."
   ]
  },
  {
   "cell_type": "code",
   "execution_count": null,
   "id": "3ec3d9f0",
   "metadata": {},
   "outputs": [],
   "source": [
    "# Normalize (your code)\n"
   ]
  },
  {
   "cell_type": "markdown",
   "id": "0cfbb70f",
   "metadata": {},
   "source": [
    "Subtract DC and adjust pixels less than '1' to '1'."
   ]
  },
  {
   "cell_type": "markdown",
   "id": "685c22c7",
   "metadata": {},
   "source": [
    "Locate a region to compute the dose"
   ]
  },
  {
   "cell_type": "markdown",
   "id": "81dd2b12",
   "metadata": {},
   "source": [
    "You can also compare the effect of including the dose term. Note that $p$ should be zero in air.\n",
    "\n",
    "#### Obtain the step values from the images\n",
    "The goal of the exercise is to obtain a gray value from each thickness in the wedges. This is again done using array slicing and averaging like for the dose value. This time, we will however only compute the average in one direction at first using ```img[100:150, 200:250].mean(axis=1)```. Here, ```axis=1``` tells that the average is computed in the horizontal direction only. Find the region you want to measure and plot the resulting average profile. You can also compute the standard deviation using the array method ```.std(axis=1)``` if you like. Fitting the data points to estimate the is easiest done using ```m,b=np.polyfit(x,y,1)```."
   ]
  },
  {
   "cell_type": "code",
   "execution_count": null,
   "id": "7cf65cca",
   "metadata": {},
   "outputs": [],
   "source": [
    "# Your fitting code\n"
   ]
  },
  {
   "cell_type": "markdown",
   "id": "c81ad877",
   "metadata": {},
   "source": [
    "__Comment:__ There are different ways to obtain the data points for this study. The trivial solution is to look up the index intervals manually. If you want a more challenging task, you can implement an automated solution using the ```label``` function from scikit image."
   ]
  },
  {
   "cell_type": "markdown",
   "id": "bddbfa42",
   "metadata": {},
   "source": [
    "### The impact of scattering\n",
    "The attenuation law assumes the radiation to be absorbed by the medium the are entering. This is however not true for neutrons. They are dominantly scattered in the material with the consequence that they will produce a bias in the images. This bias can result in measurement errors up to 50%. In the figure below, you can see how the ratio between scattering and absorption in by different commonly used elements."
   ]
  },
  {
   "cell_type": "code",
   "execution_count": null,
   "id": "0b5caa0b",
   "metadata": {},
   "outputs": [],
   "source": [
    "elements = 'H','O','C','Al','Fe','Cu','Si','Pb'\n",
    "idx = np.arange(len(elements))\n",
    "xs = np.array([[1.7568, 80.26,  82.02,  0.3326 ],\n",
    "      [4.232,  0.0008, 4.232,  0.00019],\n",
    "      [5.551,  0.001,  5.551,  0.0035],\n",
    "      [1.495,  0.0082, 1.503,  0.231 ],\n",
    "      [11.22,  0.4,    11.62,  2.56 ],\n",
    "      [7.485,  0.55,   8.03,   3.78 ],\n",
    "      [2.163,  0.004,  2.1670, 0.171],\n",
    "      [11.115, 0.003,  11.118, 0.171 ]])\n",
    "\n",
    "width= 0.85\n",
    "fontsize=12\n",
    "plt.figure(figsize=[4.5,4.5])\n",
    "plt.bar(idx,xs[:,2],width,label='Scattering')\n",
    "plt.bar(idx,xs[:,3],width,label='Absorption',bottom=xs[:,2])\n",
    "plt.xticks(idx,elements,fontsize=fontsize)\n",
    "plt.yticks(fontsize=fontsize)\n",
    "plt.legend(fontsize=fontsize)\n",
    "plt.xlabel('Elements')\n",
    "plt.ylabel('Cross section [barn]')\n",
    "plt.title('Neutron cross sections');"
   ]
  },
  {
   "cell_type": "markdown",
   "id": "1b58c55d",
   "metadata": {},
   "source": [
    "### Computing the attenuation coefficient - part 2"
   ]
  },
  {
   "cell_type": "markdown",
   "id": "7566a7ad",
   "metadata": {},
   "source": [
    "\n",
    "<img src=\"figures/scattering.jpeg\" style=\"height:300px\" />"
   ]
  },
  {
   "cell_type": "markdown",
   "id": "c5d773b7",
   "metadata": {},
   "source": [
    "Scattering correction requires a revised form of the normalization equation we previously used. This equation now includes estimated of the scattered neutrons. These esitmates are computed from two additional reference images where a grid with black body dots is inserted in open beam and sample images. \n",
    " \n",
    "$$\\frac{\\tilde{I}_n}{\\tilde{I}_{OB}}=\\frac{I_n}{I_{OB}}\\cdot\\frac{D(I_{OB})}{D(I_{n})}=\\frac{I_{n}^{*}-I_{DC}-I_{n,BB}^{S}\\frac{D\\left(I_{n}^{*}-I_{DC}\\right)}{D\\left(I_{n,BB}^{*}-I_{DC}-\\left(1-\\frac{1}{\\tau_{BB}}\\right)I_{n,BB}^{S}\\right)\\tau_{BB}}}{I_{OB}^{*}-I_{DC}-I_{BG,BB}^{S}\\frac{D\\left(I_{OB}^{*}-I_{DC}\\right)}{D\\left(I_{OB,BB}^{*}-I_{DC}-\\left(1-\\frac{1}{\\tau_{BB}}\\right)I_{BG,BB}^{S}\\right)\\tau_{BB}}}\\cdot\\frac{D\\left(I_{OB}^{*}-I_{DC}-I_{BG,BB}^{S}\\frac{D\\left(I_{OB}^{*}-I_{DC}\\right)}{D\\left(I_{OB,BB}^{*}-I_{DC}-\\left(1-\\frac{1}{\\tau_{BB}}\\right)I_{BG,BB}^{S}\\right)\\tau_{BB}}\\right)}{D\\left(I_{n}^{*}-I_{DC}-I_{n,BB}^{S}\\frac{D\\left(I_{n}^{*}-I_{DC}\\right)}{D\\left(I_{n,BB}^{*}-I_{DC}-\\left(1-\\frac{1}{\\tau_{BB}}\\right)I_{n,BB}^{S}\\right)\\tau_{BB}}\\right)}$$\n",
    "\n",
    "The revised equation is, as you can see, quite complicated and __we will use a pre-implemented function__ in this exercise.\n",
    "\n",
    "In this exercise we'll need some additional reference images. Namely those needed to estimate the bias introduced by scattering. These images are also located in the folder with the step wedge images.\n",
    "\n",
    "- ```exp##s_bbempty.tif```\n",
    "- ```exp##s_bbh2o.tif```"
   ]
  },
  {
   "cell_type": "code",
   "execution_count": null,
   "id": "2858e1e7",
   "metadata": {},
   "outputs": [],
   "source": [
    "# Load and show BB images (your code). \n",
    "\n",
    "bbob  = \n",
    "bbs   = \n",
    "\n",
    "# Also load all the other images to clean up the scene\n",
    "dc    = \n",
    "ob    = \n",
    "empty = \n",
    "h2o   = "
   ]
  },
  {
   "cell_type": "markdown",
   "id": "76d7f993",
   "metadata": {},
   "source": [
    "We now want to fit the shape of the graylevels behind the black body dots. This is done in two steps:\n",
    "1. Detect the dots\n",
    "2. Fit the dot information to a second order polynomial in x and y."
   ]
  },
  {
   "cell_type": "markdown",
   "id": "3d09493b",
   "metadata": {},
   "source": [
    "The dot detection is based on a method called template matching. The method requires a template of what it is supposed to find. In our case this is an isolated black body dot. The dot is located in the ROI described by the parameter ```roi=[r0,c0,r1,c1]```"
   ]
  },
  {
   "cell_type": "code",
   "execution_count": null,
   "id": "82fa1ca7",
   "metadata": {},
   "outputs": [],
   "source": [
    "# Load the bbmask\n",
    "bbmask = tiff.imread('../data/stepwedge/bb_masked.tif')\n",
    "\n",
    "plt.imshow(bbmask)"
   ]
  },
  {
   "cell_type": "markdown",
   "id": "f80a14c9",
   "metadata": {},
   "source": [
    "The next step is to measure the graylevels behind the BB dots"
   ]
  },
  {
   "cell_type": "code",
   "execution_count": null,
   "id": "7b3bc7e3",
   "metadata": {
    "hide_input": false
   },
   "outputs": [],
   "source": [
    "# Support function to extract the bb info\n",
    "from skimage.measure import label, regionprops\n",
    "from skimage.draw import disk\n",
    "def get_bb_info(img,mask,R) :\n",
    "    lbl = label(bbmask)\n",
    "    regions=[]\n",
    "    for region in regionprops(lbl):\n",
    "        x,y = region.centroid\n",
    "        rr, cc = disk((x,y), R) \n",
    "        dotdata = img[rr,cc]\n",
    "        regions.append({'label': region.label,\n",
    "                        'mean' : np.mean(dotdata),\n",
    "                        'median' : np.median(dotdata),\n",
    "                        'r' : region.centroid[0],\n",
    "                        'c' : region.centroid[1]})\n",
    "        \n",
    "    return pd.DataFrame.from_dict(regions)"
   ]
  },
  {
   "cell_type": "code",
   "execution_count": null,
   "id": "48b38c75",
   "metadata": {
    "scrolled": false
   },
   "outputs": [],
   "source": [
    "rbbs  = get_bb_info(bbs,bbmask,R=5)\n",
    "rbbob = get_bb_info(bbob,bbmask,R=5)\n",
    "\n",
    "rbbs.head()"
   ]
  },
  {
   "cell_type": "markdown",
   "id": "c578f5f0",
   "metadata": {},
   "source": [
    "Now, we are ready to create images with the scattering contribution for open beam and sample image. We will be using the median gray level here to reduce the impact of outliers."
   ]
  },
  {
   "cell_type": "code",
   "execution_count": null,
   "id": "0c7ada4c",
   "metadata": {},
   "outputs": [],
   "source": [
    "bbs_s  = bb.compute_scatter_image_from_df(rbbs,bbs.shape,info='median');"
   ]
  },
  {
   "cell_type": "code",
   "execution_count": null,
   "id": "023f5ae1",
   "metadata": {
    "hide_input": true
   },
   "outputs": [],
   "source": [
    "# Visualization\n",
    "cmap = 'coolwarm'\n",
    "fig,ax=plt.subplots(1,3,figsize=(15,5))\n",
    "df=bb.check_scatter_image(bbs,0,bbmask,ax=ax[0],cmap='viridis',clim=[0,20000])\n",
    "ax[0].set_title('Intensity behind BBs')\n",
    "a1=ax[1].imshow(bbs_s,cmap='viridis')\n",
    "ax[1].set_title('Scatter estimate')\n",
    "fig.colorbar(a1,ax=ax[1],shrink=0.5)\n",
    "df=bb.check_scatter_image(bbs,bbs_s,bbmask,ax=ax[2],cmap=cmap,sym_cmap=True,clim=[0,20000])\n",
    "ax[2].set_title('Measured - Estimated');"
   ]
  },
  {
   "cell_type": "code",
   "execution_count": null,
   "id": "d1e1f94a",
   "metadata": {},
   "outputs": [],
   "source": [
    "bbob_s = bb.compute_scatter_image_from_df(rbbob,bbob.shape,info='median');"
   ]
  },
  {
   "cell_type": "code",
   "execution_count": null,
   "id": "21a61c8e",
   "metadata": {
    "hide_input": true,
    "scrolled": true
   },
   "outputs": [],
   "source": [
    "# Visualization\n",
    "cmap = 'coolwarm'\n",
    "fig,ax=plt.subplots(1,3,figsize=(15,5))\n",
    "df=bb.check_scatter_image(bbob,0,bbmask,ax=ax[0],cmap='viridis',clim=[0,20000])\n",
    "ax[0].set_title('Intensity behind BBs')\n",
    "\n",
    "a1=ax[1].imshow(bbob_s,cmap='viridis')\n",
    "ax[1].set_title('Scatter estimate')\n",
    "fig.colorbar(a1,ax=ax[1],shrink=0.5)\n",
    "\n",
    "df=bb.check_scatter_image(bbob,bbob_s,bbmask,ax=ax[2],cmap=cmap,sym_cmap=True,clim=[0,20000])\n",
    "ax[2].set_title('Measured - Estimated');"
   ]
  },
  {
   "cell_type": "markdown",
   "id": "55fe28e2",
   "metadata": {},
   "source": [
    "The last step of this extended normalization procedure is to apply the equation above. Here, it is importand to mark a roi for the dose correction. This should be a region outside the samples and the grid as well."
   ]
  },
  {
   "cell_type": "code",
   "execution_count": null,
   "id": "96664d7c",
   "metadata": {},
   "outputs": [],
   "source": [
    "nimg_sc   = -np.log(bb.normalization_with_BB(h2o,empty,dc,bbs,bbob,bbs_s,bbob_s,[0,600,50,700],0.97))\n",
    "plt.imshow(nimg_sc,vmin=0,vmax=3);\n",
    "plt.title('Image after scattring correction');"
   ]
  },
  {
   "cell_type": "markdown",
   "id": "edaff814",
   "metadata": {},
   "source": [
    "At last we can inspect what the profile looks like. Before and after scattering correction. Again plot the profile over the step wedge using the two images from before and after. The white spots can be removed using a spot cleaning filter or plainly apply a median filter like ```skimage.filters.median```. The white line and blob below the step wedges are too opaque for the neutrons to be transmitted."
   ]
  },
  {
   "cell_type": "code",
   "execution_count": null,
   "id": "ec4bcfc6",
   "metadata": {},
   "outputs": [],
   "source": [
    "# your code for the plotting\n"
   ]
  },
  {
   "cell_type": "markdown",
   "id": "d53cb2ab",
   "metadata": {},
   "source": [
    "Repeat the fitting steps to obtain the new attenuation coefficient for water now that we have the scatter corrected image. Compare the results with the uncorrected case."
   ]
  },
  {
   "cell_type": "code",
   "execution_count": null,
   "id": "9d128f79",
   "metadata": {},
   "outputs": [],
   "source": [
    "# Your code to fit the new data and compare the result to the first fit\n"
   ]
  },
  {
   "cell_type": "markdown",
   "id": "83ee5066",
   "metadata": {},
   "source": [
    "This exercise shows the importance of a correction procedure to handle the scattering from sample and the background in the instrument."
   ]
  },
  {
   "cell_type": "markdown",
   "id": "7dc956fe",
   "metadata": {},
   "source": [
    "## Estimating the pore size using capillary rise and Washborn's equation\n",
    "From [Wikipedia](https://en.wikipedia.org/wiki/Washburn%27s_equation):\n",
    ">In physics, Washburn's equation describes capillary flow in a bundle of parallel cylindrical tubes; it is extended with some issues also to imbibition into porous materials. \n",
    "A liquid having a dynamic viscosity $\\eta$ and surface tension \n",
    "$\\gamma$ will penetrate a distance $L$ into the capillary whose pore radius is $r$ following the relationship:\n",
    ">$$L={\\sqrt {\\frac {\\gamma rt\\cos(\\phi )}{2\\eta }}}$$\n",
    ">Where $\\phi$  is the contact angle between the penetrating liquid and the solid (tube wall).\n",
    "\n",
    "<img src=\"figures/rising-damp.jpg\" style=\"height:300px\" />\n",
    "\n",
    "In this experiment, we will observe a water front rising in a sand packing using a time-series of neutron radiographs. "
   ]
  },
  {
   "cell_type": "markdown",
   "id": "a3382879",
   "metadata": {},
   "source": [
    "### Sample preparation"
   ]
  },
  {
   "cell_type": "markdown",
   "id": "2fbf171f",
   "metadata": {},
   "source": [
    "#### Sample dimensions"
   ]
  },
  {
   "cell_type": "markdown",
   "id": "65e087e4",
   "metadata": {},
   "source": [
    "### Image acquisition\n",
    "Load data from the experiments. Here will load a series of images and their time stamps."
   ]
  },
  {
   "cell_type": "code",
   "execution_count": null,
   "id": "5d9f740b",
   "metadata": {},
   "outputs": [],
   "source": [
    "img  = tiff.imread('../data/timeseries/sample3_images.tif')\n",
    "time = np.data = np.genfromtxt('../data/timeseries/sample3_timestamps.csv', delimiter=',', skip_header = 0)\n",
    "pixelSize=0.088 # mm"
   ]
  },
  {
   "cell_type": "markdown",
   "id": "41dd7908",
   "metadata": {},
   "source": [
    "### Data reduction\n",
    "The data in this exercise doesn't have the reference images we used before (ob and dc). The reason is that the source unfortunately stopped before these images could be obtained. Missing this data is not devastating for the task at hand, but would be needed if we would like to quantify the amount of water behind the water front. \n",
    "\n",
    "One operation you can test is to divide all images in the series by the first image. This would increase the contrast of the front and remove any other structures in the images."
   ]
  },
  {
   "cell_type": "code",
   "execution_count": null,
   "id": "4e67b7d3",
   "metadata": {},
   "outputs": [],
   "source": [
    "# Your code if you want to normalize the series\n"
   ]
  },
  {
   "cell_type": "markdown",
   "id": "306b995a",
   "metadata": {},
   "source": [
    "A further operation that could be considered is to remove possible outliers (spots) in the data. Here, it would be sufficient to apply a median filter."
   ]
  },
  {
   "cell_type": "code",
   "execution_count": null,
   "id": "21e505f8",
   "metadata": {},
   "outputs": [],
   "source": [
    "# Apply a median filter\n",
    "from skimage.filters import median\n"
   ]
  },
  {
   "cell_type": "markdown",
   "id": "786e58ba",
   "metadata": {},
   "source": [
    "### Extracting the front profile\n",
    "\n",
    "The data you obtained from the experiment consists of series of radiographs. When these are stacked you will get a 3D volume with the axes x,y, and time. With this stucture of the data it is possible to extract y-t slices. Like in the example below.\n",
    "\n",
    "<img src='figures/yt-slicing.svg' style=\"height:400px\" />\n",
    "\n",
    "The figure shows that depending on which direction you slice the data you'll see different details of the observed process. Looking at the mid panel you can clearly see how the water front is moving up. A single yt-slice may be too noisy for the following analysis. Therefore, it makes sense to select an interval which is averaged into the yt slice you see here. The left panel shows that the water surface not yet touch the bottom of the sand, while the panel to the right is in the middle of the process. "
   ]
  },
  {
   "cell_type": "code",
   "execution_count": null,
   "id": "d552fecd",
   "metadata": {},
   "outputs": [],
   "source": [
    "# Your code: get the yt slice\n"
   ]
  },
  {
   "cell_type": "markdown",
   "id": "bbed1fef",
   "metadata": {},
   "source": [
    "Once we have the yt-slice, we want to detect the water front in the image and measure where it is located. This segmentation and detection is done in several steps:\n",
    "1. Find a threshold level. The value is found using a histogram e.g. ```_=plt.hist(data.ravel(),bins=100);```. The ravel operation is essential otherwise you'll get a histogram for each row in the image."
   ]
  },
  {
   "cell_type": "code",
   "execution_count": null,
   "id": "f94659d7",
   "metadata": {},
   "outputs": [],
   "source": [
    "# Your code\n"
   ]
  },
  {
   "cell_type": "markdown",
   "id": "670b7665",
   "metadata": {},
   "source": [
    "2. Make a bi-level image when you found the threshold value"
   ]
  },
  {
   "cell_type": "code",
   "execution_count": null,
   "id": "2a7a57f7",
   "metadata": {},
   "outputs": [],
   "source": [
    "# your code\n",
    "threshold = 0 # adjust the threshold to obtain a bi level image showing the rising water front.\n",
    "bi_yt = yt<threshold\n",
    "plt.imshow(bi_yt)"
   ]
  },
  {
   "cell_type": "markdown",
   "id": "447767d7",
   "metadata": {},
   "source": [
    "3. Find the height position of the front as fnction of time. Here, the ```np.argmax(data,axis)``` is very helpful. Be careful to check that you subtract the correct bias and that the level is actuall rising."
   ]
  },
  {
   "cell_type": "code",
   "execution_count": null,
   "id": "1c5fc473",
   "metadata": {},
   "outputs": [],
   "source": [
    "# Your code\n"
   ]
  },
  {
   "cell_type": "markdown",
   "id": "7a0ba9ca",
   "metadata": {},
   "source": [
    "4. Scale the height by the pixel size and plot the height as function of time. The time data was already loaded as ```time```."
   ]
  },
  {
   "cell_type": "code",
   "execution_count": null,
   "id": "837b4bba",
   "metadata": {},
   "outputs": [],
   "source": [
    "# Your code\n"
   ]
  },
  {
   "cell_type": "markdown",
   "id": "c0909d4a",
   "metadata": {},
   "source": [
    "### Fitting data to Washborn's equation\n",
    "\n",
    "Here is a [tutorial](https://nbviewer.org/github/neutronimaging/coding-recipes/blob/main/python/CurveFitting.ipynb) how to fit a function to a data set.\n",
    "\n",
    "The first step is to define a fitting function. This is best simplified to \n",
    "$$L=\\sqrt{t\\cdot{}k}$$"
   ]
  },
  {
   "cell_type": "code",
   "execution_count": null,
   "id": "69e9252a",
   "metadata": {},
   "outputs": [],
   "source": [
    "from scipy.optimize import curve_fit\n",
    "# Your code\n"
   ]
  },
  {
   "cell_type": "markdown",
   "id": "95022562",
   "metadata": {},
   "source": [
    "Now you are ready to fit your data. Make sure that you crop the time series to only match the active part. "
   ]
  },
  {
   "cell_type": "code",
   "execution_count": null,
   "id": "393a783e",
   "metadata": {},
   "outputs": [],
   "source": [
    "# Your code\n"
   ]
  },
  {
   "cell_type": "markdown",
   "id": "8f3e291a",
   "metadata": {},
   "source": [
    "Plot the fitted data and check how well it fits the measured curve."
   ]
  },
  {
   "cell_type": "code",
   "execution_count": null,
   "id": "3e5af5d2",
   "metadata": {},
   "outputs": [],
   "source": [
    "# Your code\n"
   ]
  },
  {
   "cell_type": "markdown",
   "id": "f1d6ff63",
   "metadata": {},
   "source": [
    "Now we have a fitted constant and can find the average pore size of the sand packing. To do this, we need some constants to complete Washborn's equation.\n",
    "\n",
    "|Constant| Symbol | value |\n",
    "|---|---|---|\n",
    "| Surcafe tension |$\\gamma$ |72 × 10−3N/m |\n",
    "| Dynamic viscosity |$\\eta$ | 8.9 × 10−4Ps |\n",
    "|Wetting angle | $\\phi$| 50$^{\\circ} |\n",
    "\n",
    "Rearrange the equation and calculate the pore radius."
   ]
  },
  {
   "cell_type": "code",
   "execution_count": null,
   "id": "6f53eea5",
   "metadata": {},
   "outputs": [],
   "source": [
    "# your code.\n"
   ]
  },
  {
   "cell_type": "markdown",
   "id": "396c9f19",
   "metadata": {},
   "source": [
    "## Summary"
   ]
  },
  {
   "cell_type": "markdown",
   "id": "19eccf92",
   "metadata": {},
   "source": [
    "In this tutorial, we learned how quantify information from neutron images.\n",
    "\n",
    "1. We measured the attenuation coefficient of water and saw the impact of scattered neutrons. The attenuation coefficient is used to measure the amount of water in a sample based on varaiations in gray levels. It is therefore important to know this constant very precisely.\n",
    "\n",
    "2. In the second experiment we tracked the position of the water front in a sample to measure the average pore radius in a sand packing.\n",
    "\n",
    "In addition to learning more about these main objectives, we also learned how to use different python packages to solve the analysis tasks in a repeatable way and also how to present the results in plots and image displays."
   ]
  }
 ],
 "metadata": {
  "kernelspec": {
   "display_name": "Python 3 (ipykernel)",
   "language": "python",
   "name": "python3"
  },
  "language_info": {
   "codemirror_mode": {
    "name": "ipython",
    "version": 3
   },
   "file_extension": ".py",
   "mimetype": "text/x-python",
   "name": "python",
   "nbconvert_exporter": "python",
   "pygments_lexer": "ipython3",
   "version": "3.9.7"
  }
 },
 "nbformat": 4,
 "nbformat_minor": 5
}
