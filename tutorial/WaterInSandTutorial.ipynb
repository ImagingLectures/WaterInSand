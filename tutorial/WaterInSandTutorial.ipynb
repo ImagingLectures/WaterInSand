{
 "cells": [
  {
   "cell_type": "markdown",
   "id": "602b1ed5",
   "metadata": {},
   "source": [
    "# Studying water in porous media using neutron imaging"
   ]
  },
  {
   "cell_type": "markdown",
   "id": "e45d6966",
   "metadata": {},
   "source": [
    "## Tutorial objectives\n",
    "\n",
    "- Learning how to work with images in python.\n",
    "- Understanding how the water content can be quantified from images.\n",
    "    - Normalization\n",
    "    - Correcting for scattering\n",
    "    - Estimating the attenation coefficient of water (video demonstration).\n",
    "- Planning a real time imaging experiment.\n",
    "    - Finding pixel size and exposure time.\n",
    "- Detecting the position of a water front in a time series.\n",
    "    - Performing a capillary rise experiment (video demonstrations).\n",
    "    - Reduction"
   ]
  },
  {
   "cell_type": "markdown",
   "id": "c526ad38",
   "metadata": {},
   "source": [
    "### Loading some needed modules"
   ]
  },
  {
   "cell_type": "code",
   "execution_count": 19,
   "id": "fb3a75bd",
   "metadata": {},
   "outputs": [],
   "source": [
    "import numpy as np\n",
    "import matplotlib.pyplot as plt\n",
    "import pandas as pd\n",
    "import tifffile as tiff"
   ]
  },
  {
   "cell_type": "markdown",
   "id": "07c070c1",
   "metadata": {},
   "source": [
    "## Working with images"
   ]
  },
  {
   "cell_type": "markdown",
   "id": "1c78a15f",
   "metadata": {},
   "source": [
    "### Load and inspect images"
   ]
  },
  {
   "cell_type": "markdown",
   "id": "4e0eb6db",
   "metadata": {},
   "source": [
    "### Image arithmetics"
   ]
  },
  {
   "cell_type": "markdown",
   "id": "21d25b14",
   "metadata": {},
   "source": [
    "### Image filters"
   ]
  },
  {
   "cell_type": "markdown",
   "id": "67542743",
   "metadata": {},
   "source": [
    "## Determining the attenuation coefficient of water\n",
    "Neutrons are very sensitive to hydrogen. This fact is often used in neutron imaging to measure the local water content in a sample. The thickness of water behind each pixel can be determined using Beer-Lambert's law\n",
    "\n",
    "$$I_{wet}=I_0 e^{-\\int_L \\mu(x)dx}$$\n",
    "\n",
    "which simplifies to \n",
    "\n",
    "$$I=I_0 e^{-\\left(l_{H_2O}\\cdot\\mu_{H_2O}+l_{sand}\\cdot\\mu_{sand}+l_{container}\\cdot\\mu_{container}\\right)}$$\n",
    "\n",
    "<img src=\"figures/porous_media_sand.svg\" style=\"height:200px\" />\n",
    "\n",
    "The terms for _sand_ and _container_ can be removed with help of reference images, which leaves us with the term for water $l_{H_2O}\\cdot\\mu_{H_2O}$. Here, $l_{H_2O}$ is the thinkness of water which is the information we want to know and $\\mu_{H_2O}$ is the attenuation coefficient of water. Now, this measurement provides more information than we actually need. Therefore, we need a reference meassurement if the container with dry sand. \n",
    "\n",
    "$$I_{dry}=I_0 e^{-\\left(l_{sand}\\cdot\\mu_{sand}+l_{container}\\cdot\\mu_{container}\\right)}$$\n",
    "\n",
    "Dividing $I_{wet}$ by $I_{dry}$ like\n",
    "\n",
    "$$T_{H_2O}=\\frac{I_{wet}}{I_{dry}}=e^{-l_{H_2O}\\cdot\\mu_{H_2O}}$$\n",
    "\n",
    "Gives us the transmission contribution of water. This result still doesn't tell us the water thickness. For that, we need to know the attenuation coefficient of water $\\mu_{H_2O}$ which we will estimate in the first exercise."
   ]
  },
  {
   "cell_type": "markdown",
   "id": "06992635",
   "metadata": {},
   "source": [
    "### Using a step wedge\n",
    "A step wedge is a wedge shaped device with step wise increasing material thickness. This allows to determine the attenuation coefficient for different thicknesses and thereby increasing the accuracy of the estimate compared to measuring for a single thickness.  \n",
    "\n",
    "<img src=\"figures/step_wedge.svg\" style=\"height:300px\"/>\n",
    "\n",
    "A step wedge for liquids is a container in which you pour the liquid. It is best to use a container with constant wall thickness to reduce the uncertainty of changing amounts of material besides the liqiud itself. The wedges used in this experiment have the steps\n",
    "0.5, 1.0, 1.5, 2.0, 2.5 mm for the thinner wedge and 3.0, 3.5, 4.0, 4.5, 5.0 mm for the thicker wedge.\n",
    "\n",
    "For this task you'll need a collection of images.\n",
    "1. Reference images, open beam and dark current.\n",
    "2. One image of the empty container.\n",
    "3. One image of the filled container.\n",
    "\n",
    "It is important that the contatiner is not displaced between 2. and 3., otherwise there will be normalization errors. The data is located in the folder ```../data/stepwedge``` where the filenames indicate the file contents and also which exposure time was used."
   ]
  },
  {
   "cell_type": "markdown",
   "id": "283f314e",
   "metadata": {},
   "source": [
    "### Computing the attenuation coefficient - part 1\n",
    "In this exercise you will load an image with a stepwedge and reference images for open beam and dark current. These images will be used to calculate $\\mu$ for different thicknesses. Please note here that the step wedge container material is also included in the image. This means that you will include the contribution of $l_{container}\\cdot\\mu_{container}$ in your measurement. How can you compensate for this term?"
   ]
  },
  {
   "cell_type": "code",
   "execution_count": null,
   "id": "e5337bde",
   "metadata": {},
   "outputs": [],
   "source": [
    "# Load and inspect the images (your code)\n",
    "\n",
    "dc    = \n",
    "ob    = \n",
    "empty = \n",
    "h2o   = "
   ]
  },
  {
   "cell_type": "markdown",
   "id": "d5df1519",
   "metadata": {},
   "source": [
    "Ideally, you should be able to calculate\n",
    "$$p=\\int_L \\mu(x)dx= -log\\left(\\frac{I}{I_0}\\right)$$\n",
    "Technically, there are two details to handle when you want to normalize your images\n",
    "1. The detector adds a bias to the images due to the dark current noise.\n",
    "2. The neutron source is not operating with constant flux\n",
    "\n",
    "<img src=\"figures/hipa-info.png\" style=\"height:200px\"/>\n",
    "\n",
    "Therefore, we have to modify the equation to \n",
    "$$p=\\int_L \\mu(x)dx= -log\\left(\\frac{I-I_{DC}}{I_0-I_{DC}}\\cdot \\frac{D(I_0-I_{DC})}{D(I-I_{DC})}\\right)$$\n",
    "where $I_0$ is a dark current image and $D(\\cdot)$ is a dose operator. The dose is often measured as the average gray level in a region on the side of the measured object. To do this you have to identify the coordinates of the region you like to use and use array slicing and the average operation, e.g. ```img[100:150, 200:250].mean()``` will compute the average value in the region of rows 100 to 150 and columns 200 to 250. The logarithm function is provided by numpy as ```np.log()```."
   ]
  },
  {
   "cell_type": "code",
   "execution_count": null,
   "id": "3ec3d9f0",
   "metadata": {},
   "outputs": [],
   "source": [
    "# Normalize (your code)\n"
   ]
  },
  {
   "cell_type": "markdown",
   "id": "81dd2b12",
   "metadata": {},
   "source": [
    "You can also compare the effect of including the dose term. Note that $p$ should be zero in air.\n",
    "\n",
    "#### Obtain the step values from the images\n",
    "The goal of the exercise is to obtain a gray value from each thickness in the wedges. This is again done using array slicing and averaging like for the dose value. This time, we will however only compute the average in one direction at first using ```img[100:150, 200:250].mean(axis=1)```. Here, ```axis=1``` tells that the average is computed in the horizontal direction only. Find the region you want to measure and plot the resulting average profile. You can also compute the standard deviation using the array method ```.std(axis=1)``` if you like. Fitting the data points to estimate the is easiest done using ```m,b=np.polyfit(x,y,1)```."
   ]
  },
  {
   "cell_type": "code",
   "execution_count": null,
   "id": "19b4bf24",
   "metadata": {},
   "outputs": [],
   "source": [
    "# Your code here\n"
   ]
  },
  {
   "cell_type": "markdown",
   "id": "bddbfa42",
   "metadata": {},
   "source": [
    "### The impact of scattering\n",
    "The attenuation law assumes the radiation to be absorbed by the medium the are entering. This is however not true for neutrons. They are dominantly scattered in the material with the consequence that they will produce a bias in the images. This bias can result in measurement errors up to 50%. In the figure below, you can see how the ratio between scattering and absorption in by different commonly used elements."
   ]
  },
  {
   "cell_type": "code",
   "execution_count": 69,
   "id": "0b5caa0b",
   "metadata": {},
   "outputs": [
    {
     "data": {
      "image/png": "[encoded data removed]",
      "text/plain": [
       "<Figure size 324x324 with 1 Axes>"
      ]
     },
     "metadata": {
      "needs_background": "light"
     },
     "output_type": "display_data"
    }
   ],
   "source": [
    "elements = 'H','O','C','Al','Fe','Cu','Si','Pb'\n",
    "idx = np.arange(len(elements))\n",
    "xs = np.array([[1.7568, 80.26,  82.02,  0.3326 ],\n",
    "      [4.232,  0.0008, 4.232,  0.00019],\n",
    "      [5.551,  0.001,  5.551,  0.0035],\n",
    "      [1.495,  0.0082, 1.503,  0.231 ],\n",
    "      [11.22,  0.4,    11.62,  2.56 ],\n",
    "      [7.485,  0.55,   8.03,   3.78 ],\n",
    "      [2.163,  0.004,  2.1670, 0.171],\n",
    "      [11.115, 0.003,  11.118, 0.171 ]])\n",
    "\n",
    "width= 0.85\n",
    "fontsize=12\n",
    "plt.figure(figsize=[4.5,4.5])\n",
    "plt.bar(idx,xs[:,2],width,label='Scattering')\n",
    "plt.bar(idx,xs[:,3],width,label='Absorption',bottom=xs[:,2])\n",
    "plt.xticks(idx,elements,fontsize=fontsize)\n",
    "plt.yticks(fontsize=fontsize)\n",
    "plt.legend(fontsize=fontsize)\n",
    "plt.xlabel('Elements')\n",
    "plt.ylabel('Cross section [barn]')\n",
    "plt.title('Neutron cross sections');"
   ]
  },
  {
   "cell_type": "markdown",
   "id": "1b58c55d",
   "metadata": {},
   "source": [
    "### Computing the attenuation coefficient - part 2"
   ]
  },
  {
   "cell_type": "markdown",
   "id": "7566a7ad",
   "metadata": {},
   "source": [
    "\n",
    "<img src=\"figures/scattering.jpeg\" style=\"height:300px\" />"
   ]
  },
  {
   "cell_type": "markdown",
   "id": "c5d773b7",
   "metadata": {},
   "source": [
    "Scattering correction requires a revised form of the normalization equation we previously used. This equation now includes estimated of the scattered neutrons. These esitmates are computed from two additional reference images where a grid with black body dots is inserted in open beam and sample images. \n",
    " \n",
    "$$\\frac{\\tilde{I}_n}{\\tilde{I}_{OB}}=\\frac{I_n}{I_{OB}}\\cdot\\frac{D(I_{OB})}{D(I_{n})}=\\frac{I_{n}^{*}-I_{DC}-I_{n,BB}^{S}\\frac{D\\left(I_{n}^{*}-I_{DC}\\right)}{D\\left(I_{n,BB}^{*}-I_{DC}-\\left(1-\\frac{1}{\\tau_{BB}}\\right)I_{n,BB}^{S}\\right)\\tau_{BB}}}{I_{OB}^{*}-I_{DC}-I_{BG,BB}^{S}\\frac{D\\left(I_{OB}^{*}-I_{DC}\\right)}{D\\left(I_{OB,BB}^{*}-I_{DC}-\\left(1-\\frac{1}{\\tau_{BB}}\\right)I_{BG,BB}^{S}\\right)\\tau_{BB}}}\\cdot\\frac{D\\left(I_{OB}^{*}-I_{DC}-I_{BG,BB}^{S}\\frac{D\\left(I_{OB}^{*}-I_{DC}\\right)}{D\\left(I_{OB,BB}^{*}-I_{DC}-\\left(1-\\frac{1}{\\tau_{BB}}\\right)I_{BG,BB}^{S}\\right)\\tau_{BB}}\\right)}{D\\left(I_{n}^{*}-I_{DC}-I_{n,BB}^{S}\\frac{D\\left(I_{n}^{*}-I_{DC}\\right)}{D\\left(I_{n,BB}^{*}-I_{DC}-\\left(1-\\frac{1}{\\tau_{BB}}\\right)I_{n,BB}^{S}\\right)\\tau_{BB}}\\right)}$$\n",
    "\n",
    "The revised equation is, as you can see, quite complicated and __we will use a pre-implemented function__ in this exercise.\n",
    "\n",
    "In this exercise we'll need some additional reference images. Namely those needed to estimate the bias introduced by scattering. These images are also located in the folder with the step wedge images.\n",
    "\n",
    "- ```exp##s_bbempty.tif```\n",
    "- ```exp##s_bbh2o.tif```"
   ]
  },
  {
   "cell_type": "code",
   "execution_count": 70,
   "id": "2858e1e7",
   "metadata": {},
   "outputs": [],
   "source": [
    "# Load and show BB images (your code). \n",
    "\n",
    "bbob  = \n",
    "bbs   = \n",
    "\n"
   ]
  },
  {
   "cell_type": "markdown",
   "id": "88504387",
   "metadata": {},
   "source": [
    "## Planning a real-time experiment"
   ]
  },
  {
   "cell_type": "markdown",
   "id": "1e46f4cd",
   "metadata": {},
   "source": [
    "### Noise in images"
   ]
  },
  {
   "cell_type": "markdown",
   "id": "d772615d",
   "metadata": {},
   "source": [
    "### Relation between noise and pixel size/exposure time"
   ]
  },
  {
   "cell_type": "markdown",
   "id": "7dc956fe",
   "metadata": {},
   "source": [
    "## Estimating the pore size using capillary rise and Washborn's equation\n",
    "From [Wikipedia](https://en.wikipedia.org/wiki/Washburn%27s_equation):\n",
    ">In physics, Washburn's equation describes capillary flow in a bundle of parallel cylindrical tubes; it is extended with some issues also to imbibition into porous materials. \n",
    "A liquid having a dynamic viscosity $\\eta$ and surface tension \n",
    "$\\gamma$ will penetrate a distance $L$ into the capillary whose pore radius is $r$ following the relationship:\n",
    ">$$L={\\sqrt {\\frac {\\gamma rt\\cos(\\phi )}{2\\eta }}}$$\n",
    ">Where $\\phi$  is the contact angle between the penetrating liquid and the solid (tube wall).\n",
    "\n",
    "<img src=\"figures/rising-damp.jpg\" style=\"height:300px\" />\n",
    "\n",
    "In this experiment, we will observe a water front rising in a sand packing using a time-series of neutron radiographs. "
   ]
  },
  {
   "cell_type": "markdown",
   "id": "a3382879",
   "metadata": {},
   "source": [
    "### Sample preparation"
   ]
  },
  {
   "cell_type": "markdown",
   "id": "2fbf171f",
   "metadata": {},
   "source": [
    "#### Sample dimensions"
   ]
  },
  {
   "cell_type": "markdown",
   "id": "65e087e4",
   "metadata": {},
   "source": [
    "### Image acquisition"
   ]
  },
  {
   "cell_type": "markdown",
   "id": "306b995a",
   "metadata": {},
   "source": [
    "### Data reduction"
   ]
  },
  {
   "cell_type": "markdown",
   "id": "786e58ba",
   "metadata": {},
   "source": [
    "### Extracting the front profile"
   ]
  },
  {
   "cell_type": "markdown",
   "id": "c0909d4a",
   "metadata": {},
   "source": [
    "### Fitting data to Washborn's equation\n",
    "\n",
    "Here is a [tutorial](https://nbviewer.org/github/neutronimaging/coding-recipes/blob/main/python/CurveFitting.ipynb) how to fit a function to a data set.\n",
    "\n",
    "The first step is to define a fitting function and provide the needed constants"
   ]
  },
  {
   "cell_type": "code",
   "execution_count": null,
   "id": "69e9252a",
   "metadata": {},
   "outputs": [],
   "source": [
    "# Your code\n"
   ]
  },
  {
   "cell_type": "markdown",
   "id": "95022562",
   "metadata": {},
   "source": [
    "Now you are ready to fit your data"
   ]
  },
  {
   "cell_type": "code",
   "execution_count": null,
   "id": "393a783e",
   "metadata": {},
   "outputs": [],
   "source": [
    "# Your code\n"
   ]
  },
  {
   "cell_type": "markdown",
   "id": "8f3e291a",
   "metadata": {},
   "source": [
    "Plot the fitted data and check how well it fits the measured curve."
   ]
  },
  {
   "cell_type": "code",
   "execution_count": null,
   "id": "3e5af5d2",
   "metadata": {},
   "outputs": [],
   "source": [
    "# Your code\n"
   ]
  },
  {
   "cell_type": "markdown",
   "id": "396c9f19",
   "metadata": {},
   "source": [
    "## Summary"
   ]
  },
  {
   "cell_type": "markdown",
   "id": "19eccf92",
   "metadata": {},
   "source": [
    "In this tutorial, we learned how quantify information from neutron images.\n",
    "\n",
    "1. We measured the attenuation coefficient of water and saw the impact of scattered neutrons. The attenuation coefficient is used to measure the amount of water in a sample based on varaiations in gray levels. It is therefore important to know this constant very precisely.\n",
    "\n",
    "2. In the second experiment we tracked the position of the water front in a sample to measure the average pore radius in a sand packing.\n",
    "\n",
    "In addition to learning more about these main objectives, we also learned how to use different python packages to solve the analysis tasks in a repeatable way and also how to present the results in plots and image displays."
   ]
  },
  {
   "cell_type": "code",
   "execution_count": null,
   "id": "6cad2fca",
   "metadata": {},
   "outputs": [],
   "source": []
  }
 ],
 "metadata": {
  "kernelspec": {
   "display_name": "Python 3 (ipykernel)",
   "language": "python",
   "name": "python3"
  },
  "language_info": {
   "codemirror_mode": {
    "name": "ipython",
    "version": 3
   },
   "file_extension": ".py",
   "mimetype": "text/x-python",
   "name": "python",
   "nbconvert_exporter": "python",
   "pygments_lexer": "ipython3",
   "version": "3.9.7"
  }
 },
 "nbformat": 4,
 "nbformat_minor": 5
}
