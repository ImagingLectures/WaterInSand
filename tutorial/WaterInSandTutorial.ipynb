{
 "cells": [
  {
   "cell_type": "markdown",
   "id": "71fdc3b2",
   "metadata": {},
   "source": [
    "# Studying water in porous media using neutron imaging"
   ]
  },
  {
   "cell_type": "markdown",
   "id": "db48aebe",
   "metadata": {},
   "source": [
    "## Tutorial objectives\n",
    "\n",
    "- Learning how to work with images in python.\n",
    "- Understanding how the water content can be quantified from images.\n",
    "    - Normalization\n",
    "    - Correcting for scattering\n",
    "    - Estimating the attenation coefficient of water (video demonstration).\n",
    "- Planning a real time imaging experiment.\n",
    "    - Finding pixel size and exposure time.\n",
    "- Detecting the position of a water front in a time series.\n",
    "    - Performing a capillary rise experiment (video demonstrations).\n",
    "    - Reduction"
   ]
  },
  {
   "cell_type": "markdown",
   "id": "c9a49864",
   "metadata": {},
   "source": [
    "## Working with images"
   ]
  },
  {
   "cell_type": "markdown",
   "id": "3a0b7b8d",
   "metadata": {},
   "source": [
    "### Load and inspect images"
   ]
  },
  {
   "cell_type": "markdown",
   "id": "7184f12b",
   "metadata": {},
   "source": [
    "### Image arithmetics"
   ]
  },
  {
   "cell_type": "markdown",
   "id": "bc9a9f01",
   "metadata": {},
   "source": [
    "### Image filters"
   ]
  },
  {
   "cell_type": "markdown",
   "id": "73bc6470",
   "metadata": {},
   "source": [
    "## Determining the attenuation coefficient of water"
   ]
  },
  {
   "cell_type": "markdown",
   "id": "bf8e3b4b",
   "metadata": {},
   "source": [
    "## Planning a real-time experiment"
   ]
  },
  {
   "cell_type": "markdown",
   "id": "71c274da",
   "metadata": {},
   "source": [
    "### Noise in images"
   ]
  },
  {
   "cell_type": "markdown",
   "id": "c865763e",
   "metadata": {},
   "source": [
    "### Relation between noise and pixel size/exposure time"
   ]
  },
  {
   "cell_type": "markdown",
   "id": "e2f26feb",
   "metadata": {},
   "source": [
    "## Estimating the pore size using capillary rise and Washborn's equation"
   ]
  },
  {
   "cell_type": "markdown",
   "id": "c2a703bb",
   "metadata": {},
   "source": [
    "### Sample preparation"
   ]
  },
  {
   "cell_type": "markdown",
   "id": "3af9472a",
   "metadata": {},
   "source": [
    "### Image acquisition"
   ]
  },
  {
   "cell_type": "markdown",
   "id": "36e7fa5c",
   "metadata": {},
   "source": [
    "### Data reduction"
   ]
  },
  {
   "cell_type": "markdown",
   "id": "ed4df412",
   "metadata": {},
   "source": [
    "### Extracting the front profile"
   ]
  },
  {
   "cell_type": "markdown",
   "id": "666717c7",
   "metadata": {},
   "source": [
    "### Fitting data to Washborn's equation"
   ]
  },
  {
   "cell_type": "code",
   "execution_count": null,
   "id": "4099bf59",
   "metadata": {},
   "outputs": [],
   "source": []
  }
 ],
 "metadata": {
  "kernelspec": {
   "display_name": "Python 3 (ipykernel)",
   "language": "python",
   "name": "python3"
  },
  "language_info": {
   "codemirror_mode": {
    "name": "ipython",
    "version": 3
   },
   "file_extension": ".py",
   "mimetype": "text/x-python",
   "name": "python",
   "nbconvert_exporter": "python",
   "pygments_lexer": "ipython3",
   "version": "3.9.7"
  }
 },
 "nbformat": 4,
 "nbformat_minor": 5
}
