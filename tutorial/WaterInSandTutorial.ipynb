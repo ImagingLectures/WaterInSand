{
 "cells": [
  {
   "cell_type": "markdown",
   "id": "602b1ed5",
   "metadata": {},
   "source": [
    "# Studying water in porous media using neutron imaging"
   ]
  },
  {
   "cell_type": "markdown",
   "id": "e45d6966",
   "metadata": {},
   "source": [
    "## Tutorial objectives\n",
    "\n",
    "- Learning how to work with images in python.\n",
    "- Understanding how the water content can be quantified from images.\n",
    "    - Normalization\n",
    "    - Correcting for scattering\n",
    "    - Estimating the attenation coefficient of water (video demonstration).\n",
    "- Planning a real time imaging experiment.\n",
    "    - Finding pixel size and exposure time.\n",
    "- Detecting the position of a water front in a time series.\n",
    "    - Performing a capillary rise experiment (video demonstrations).\n",
    "    - Reduction"
   ]
  },
  {
   "cell_type": "markdown",
   "id": "c526ad38",
   "metadata": {},
   "source": [
    "### Loading some needed modules"
   ]
  },
  {
   "cell_type": "code",
   "execution_count": null,
   "id": "fb3a75bd",
   "metadata": {},
   "outputs": [],
   "source": [
    "import numpy as np\n",
    "import matplotlib.pyplot as plt\n",
    "import pandas as pd"
   ]
  },
  {
   "cell_type": "markdown",
   "id": "07c070c1",
   "metadata": {},
   "source": [
    "## Working with images"
   ]
  },
  {
   "cell_type": "markdown",
   "id": "1c78a15f",
   "metadata": {},
   "source": [
    "### Load and inspect images"
   ]
  },
  {
   "cell_type": "markdown",
   "id": "4e0eb6db",
   "metadata": {},
   "source": [
    "### Image arithmetics"
   ]
  },
  {
   "cell_type": "markdown",
   "id": "21d25b14",
   "metadata": {},
   "source": [
    "### Image filters"
   ]
  },
  {
   "cell_type": "markdown",
   "id": "67542743",
   "metadata": {},
   "source": [
    "## Determining the attenuation coefficient of water\n",
    "Neutrons are very sensitive to hydrogen. This fact is often used in neutron imaging to measure the local water content in a sample. The thickness of water behind each pixel can be determined using Beer-Lambert's law\n",
    "\n",
    "$$I=I_0 e^{-\\int_L \\mu(x)dx}$$\n",
    "\n",
    "which simplifies to \n",
    "\n",
    "$$I=I_0 e^{-\\left(l_{H_2O}\\cdot\\mu_{H_2O}+l_{sand}\\cdot\\mu_{sand}+l_{container}\\cdot\\mu_{container}\\right)}$$\n",
    "\n",
    "<img src=\"figures/porous_media_sand.svg\" style=\"height:200px\" />\n",
    "\n",
    "The terms for _sand_ and _container_ can be removed with help of reference images, which leaves us with the term for water $l_{H_2O}\\cdot\\mu_{H_2O}$. Here, $l_{H_2O}$ is the thinkness of water which is the information we want to know and $\\mu_{H_2O}$ is the attenuation coefficient of water. "
   ]
  },
  {
   "cell_type": "markdown",
   "id": "06992635",
   "metadata": {},
   "source": [
    "### Using a step wedge\n",
    "A step wedge is a wedge shaped device with step wise increasing material thickness. This allows to determine the attenuation coefficient for different thicknesses and thereby increasing the accuracy of the estimate."
   ]
  },
  {
   "cell_type": "markdown",
   "id": "283f314e",
   "metadata": {},
   "source": [
    "### Computing the attenuation coefficient - part 1\n",
    "In this exercise you will load an image with a stepwedge and reference images for open beam and dark current. These images will be used to calculate $\\mu$ for different thicknesses. Please note here that the step wedge container material is also included in the image. This means that you will include the contribution of $l_{container}\\cdot\\mu_{container}$ in your measurement. How can you compensate for this term?"
   ]
  },
  {
   "cell_type": "code",
   "execution_count": null,
   "id": "e5337bde",
   "metadata": {},
   "outputs": [],
   "source": [
    "# Load and inspect the images (your code)\n"
   ]
  },
  {
   "cell_type": "markdown",
   "id": "d5df1519",
   "metadata": {},
   "source": [
    "Ideally, you should be able to calculate\n",
    "$$p=\\int_L \\mu(x)dx= -log\\left(\\frac{I}{I_0}\\right)$$\n",
    "Technically, there are two details to handle when you want to normalize your images\n",
    "1. The detector adds a bias to the images due to the dark current noise.\n",
    "2. The neutron source is not operating with constant flux\n",
    "\n",
    "<img src=\"figures/hipa-info.png\" style=\"height:200px\"/>\n",
    "\n",
    "Therefore, we have to modify the equation to \n",
    "$$p=\\int_L \\mu(x)dx= -log\\left(\\frac{I-I_{DC}}{I_0-I_{DC}}\\cdot \\frac{D(I_0-I_{DC})}{D(I-I_{DC})}\\right)$$\n",
    "where $I_0$ is a dark current image and $D(\\cdot)$ is a dose operator. The dose is measured "
   ]
  },
  {
   "cell_type": "code",
   "execution_count": null,
   "id": "3ec3d9f0",
   "metadata": {},
   "outputs": [],
   "source": [
    "# Normalize (your code)\n"
   ]
  },
  {
   "cell_type": "markdown",
   "id": "81dd2b12",
   "metadata": {},
   "source": [
    "You can also compare the effect of including the dose term. Note that $p$ should be zero in air."
   ]
  },
  {
   "cell_type": "markdown",
   "id": "bddbfa42",
   "metadata": {},
   "source": [
    "### The impact of scattering\n",
    "The attenuation law assumes the radiation to be absorbed by the medium the are entering. This is however not true for neutrons. They are dominantly scattered in the material with the consequence that they will produce a bias in the images. This bias can result in measurement errors up to 50%. In the figure below, you can see how the ratio between scattering and absorption in by different commonly used elements."
   ]
  },
  {
   "cell_type": "code",
   "execution_count": null,
   "id": "0b5caa0b",
   "metadata": {},
   "outputs": [],
   "source": [
    "elements = 'H','O','C','Al','Fe','Cu','Si','Pb'\n",
    "idx = np.arange(len(elements))\n",
    "xs = np.array([[1.7568, 80.26,  82.02,  0.3326 ],\n",
    "      [4.232,  0.0008, 4.232,  0.00019],\n",
    "      [5.551,  0.001,  5.551,  0.0035],\n",
    "      [1.495,  0.0082, 1.503,  0.231 ],\n",
    "      [11.22,  0.4,    11.62,  2.56 ],\n",
    "      [7.485,  0.55,   8.03,   3.78 ],\n",
    "      [2.163,  0.004,  2.1670, 0.171],\n",
    "      [11.115, 0.003,  11.118, 0.171 ]])\n",
    "\n",
    "width= 0.85\n",
    "fontsize=12\n",
    "plt.figure(figsize=[4.5,4.5])\n",
    "plt.bar(idx,xs[:,2],width,label='Scattering')\n",
    "plt.bar(idx,xs[:,3],width,label='Absorption',bottom=xs[:,2])\n",
    "plt.xticks(idx,elements,fontsize=fontsize)\n",
    "plt.yticks(fontsize=fontsize)\n",
    "plt.legend(fontsize=fontsize)\n",
    "plt.xlabel('Elements')\n",
    "plt.ylabel('Cross section [barn]')\n",
    "plt.title('Neutron cross sections');"
   ]
  },
  {
   "cell_type": "markdown",
   "id": "1b58c55d",
   "metadata": {},
   "source": [
    "### Computing the attenuation coefficient - part 2"
   ]
  },
  {
   "cell_type": "markdown",
   "id": "7566a7ad",
   "metadata": {},
   "source": [
    "\n",
    "<img src=\"figures/scattering.jpeg\" style=\"height:300px\" />"
   ]
  },
  {
   "cell_type": "markdown",
   "id": "c5d773b7",
   "metadata": {},
   "source": [
    "Scattering correction requires a revised form of the normalization equation we previously used. This equation now includes estimated of the scattered neutrons. These esitmates are computed from two additional reference images where a grid with black body dots is inserted in open beam and sample images. \n",
    " \n",
    "$$\\frac{\\tilde{I}_n}{\\tilde{I}_{OB}}=\\frac{I_n}{I_{OB}}\\cdot\\frac{D(I_{OB})}{D(I_{n})}=\\frac{I_{n}^{*}-I_{DC}-I_{n,BB}^{S}\\frac{D\\left(I_{n}^{*}-I_{DC}\\right)}{D\\left(I_{n,BB}^{*}-I_{DC}-\\left(1-\\frac{1}{\\tau_{BB}}\\right)I_{n,BB}^{S}\\right)\\tau_{BB}}}{I_{OB}^{*}-I_{DC}-I_{BG,BB}^{S}\\frac{D\\left(I_{OB}^{*}-I_{DC}\\right)}{D\\left(I_{OB,BB}^{*}-I_{DC}-\\left(1-\\frac{1}{\\tau_{BB}}\\right)I_{BG,BB}^{S}\\right)\\tau_{BB}}}\\cdot\\frac{D\\left(I_{OB}^{*}-I_{DC}-I_{BG,BB}^{S}\\frac{D\\left(I_{OB}^{*}-I_{DC}\\right)}{D\\left(I_{OB,BB}^{*}-I_{DC}-\\left(1-\\frac{1}{\\tau_{BB}}\\right)I_{BG,BB}^{S}\\right)\\tau_{BB}}\\right)}{D\\left(I_{n}^{*}-I_{DC}-I_{n,BB}^{S}\\frac{D\\left(I_{n}^{*}-I_{DC}\\right)}{D\\left(I_{n,BB}^{*}-I_{DC}-\\left(1-\\frac{1}{\\tau_{BB}}\\right)I_{n,BB}^{S}\\right)\\tau_{BB}}\\right)}$$\n",
    "\n",
    "The revised equation is, as you can see, quite complicated and __we will use a pre-implemented function__ in this exercise."
   ]
  },
  {
   "cell_type": "code",
   "execution_count": null,
   "id": "2858e1e7",
   "metadata": {},
   "outputs": [],
   "source": [
    "# Prepare scatter images"
   ]
  },
  {
   "cell_type": "markdown",
   "id": "88504387",
   "metadata": {},
   "source": [
    "## Planning a real-time experiment"
   ]
  },
  {
   "cell_type": "markdown",
   "id": "1e46f4cd",
   "metadata": {},
   "source": [
    "### Noise in images"
   ]
  },
  {
   "cell_type": "markdown",
   "id": "d772615d",
   "metadata": {},
   "source": [
    "### Relation between noise and pixel size/exposure time"
   ]
  },
  {
   "cell_type": "markdown",
   "id": "7dc956fe",
   "metadata": {},
   "source": [
    "## Estimating the pore size using capillary rise and Washborn's equation\n",
    "\n",
    "\n",
    "<img src=\"figures/rising-damp.jpg\" style=\"height:300px\" />"
   ]
  },
  {
   "cell_type": "markdown",
   "id": "a3382879",
   "metadata": {},
   "source": [
    "### Sample preparation"
   ]
  },
  {
   "cell_type": "markdown",
   "id": "2fbf171f",
   "metadata": {},
   "source": [
    "#### Sample dimensions"
   ]
  },
  {
   "cell_type": "markdown",
   "id": "65e087e4",
   "metadata": {},
   "source": [
    "### Image acquisition"
   ]
  },
  {
   "cell_type": "markdown",
   "id": "306b995a",
   "metadata": {},
   "source": [
    "### Data reduction"
   ]
  },
  {
   "cell_type": "markdown",
   "id": "786e58ba",
   "metadata": {},
   "source": [
    "### Extracting the front profile"
   ]
  },
  {
   "cell_type": "markdown",
   "id": "c0909d4a",
   "metadata": {},
   "source": [
    "### Fitting data to Washborn's equation"
   ]
  },
  {
   "cell_type": "markdown",
   "id": "396c9f19",
   "metadata": {},
   "source": [
    "## Summary"
   ]
  },
  {
   "cell_type": "code",
   "execution_count": null,
   "id": "3737a203",
   "metadata": {},
   "outputs": [],
   "source": []
  }
 ],
 "metadata": {
  "kernelspec": {
   "display_name": "Python 3 (ipykernel)",
   "language": "python",
   "name": "python3"
  },
  "language_info": {
   "codemirror_mode": {
    "name": "ipython",
    "version": 3
   },
   "file_extension": ".py",
   "mimetype": "text/x-python",
   "name": "python",
   "nbconvert_exporter": "python",
   "pygments_lexer": "ipython3",
   "version": "3.9.7"
  }
 },
 "nbformat": 4,
 "nbformat_minor": 5
}
