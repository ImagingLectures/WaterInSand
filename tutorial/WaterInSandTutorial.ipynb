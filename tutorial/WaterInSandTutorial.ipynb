{
 "cells": [
  {
   "cell_type": "markdown",
   "id": "602b1ed5",
   "metadata": {},
   "source": [
    "# Studying water in porous media using neutron imaging"
   ]
  },
  {
   "cell_type": "markdown",
   "id": "e45d6966",
   "metadata": {},
   "source": [
    "## Tutorial objectives\n",
    "\n",
    "- Learning how to work with images in python.\n",
    "- Understanding how the water content can be quantified from images.\n",
    "    - Normalization\n",
    "    - Correcting for scattering\n",
    "    - Estimating the attenation coefficient of water (video demonstration).\n",
    "- Planning a real time imaging experiment.\n",
    "    - Finding pixel size and exposure time.\n",
    "- Detecting the position of a water front in a time series.\n",
    "    - Performing a capillary rise experiment (video demonstrations).\n",
    "    - Reduction"
   ]
  },
  {
   "cell_type": "markdown",
   "id": "07c070c1",
   "metadata": {},
   "source": [
    "## Working with images"
   ]
  },
  {
   "cell_type": "markdown",
   "id": "1c78a15f",
   "metadata": {},
   "source": [
    "### Load and inspect images"
   ]
  },
  {
   "cell_type": "markdown",
   "id": "4e0eb6db",
   "metadata": {},
   "source": [
    "### Image arithmetics"
   ]
  },
  {
   "cell_type": "markdown",
   "id": "21d25b14",
   "metadata": {},
   "source": [
    "### Image filters"
   ]
  },
  {
   "cell_type": "markdown",
   "id": "67542743",
   "metadata": {},
   "source": [
    "## Determining the attenuation coefficient of water"
   ]
  },
  {
   "cell_type": "markdown",
   "id": "06992635",
   "metadata": {},
   "source": [
    "### Using a step wedge"
   ]
  },
  {
   "cell_type": "markdown",
   "id": "283f314e",
   "metadata": {},
   "source": [
    "### Computing the attenuation coefficient - part 1"
   ]
  },
  {
   "cell_type": "markdown",
   "id": "bddbfa42",
   "metadata": {},
   "source": [
    "### The impact of scattering"
   ]
  },
  {
   "cell_type": "markdown",
   "id": "1b58c55d",
   "metadata": {},
   "source": [
    "### Computing the attenuation coefficient - part 2"
   ]
  },
  {
   "cell_type": "markdown",
   "id": "88504387",
   "metadata": {},
   "source": [
    "## Planning a real-time experiment"
   ]
  },
  {
   "cell_type": "markdown",
   "id": "1e46f4cd",
   "metadata": {},
   "source": [
    "### Noise in images"
   ]
  },
  {
   "cell_type": "markdown",
   "id": "d772615d",
   "metadata": {},
   "source": [
    "### Relation between noise and pixel size/exposure time"
   ]
  },
  {
   "cell_type": "markdown",
   "id": "7dc956fe",
   "metadata": {},
   "source": [
    "## Estimating the pore size using capillary rise and Washborn's equation"
   ]
  },
  {
   "cell_type": "markdown",
   "id": "a3382879",
   "metadata": {},
   "source": [
    "### Sample preparation"
   ]
  },
  {
   "cell_type": "markdown",
   "id": "2fbf171f",
   "metadata": {},
   "source": [
    "#### Sample dimensions"
   ]
  },
  {
   "cell_type": "markdown",
   "id": "65e087e4",
   "metadata": {},
   "source": [
    "### Image acquisition"
   ]
  },
  {
   "cell_type": "markdown",
   "id": "306b995a",
   "metadata": {},
   "source": [
    "### Data reduction"
   ]
  },
  {
   "cell_type": "markdown",
   "id": "786e58ba",
   "metadata": {},
   "source": [
    "### Extracting the front profile"
   ]
  },
  {
   "cell_type": "markdown",
   "id": "c0909d4a",
   "metadata": {},
   "source": [
    "### Fitting data to Washborn's equation"
   ]
  },
  {
   "cell_type": "markdown",
   "id": "396c9f19",
   "metadata": {},
   "source": [
    "## Summary"
   ]
  },
  {
   "cell_type": "code",
   "execution_count": null,
   "id": "3737a203",
   "metadata": {},
   "outputs": [],
   "source": []
  }
 ],
 "metadata": {
  "kernelspec": {
   "display_name": "Python 3 (ipykernel)",
   "language": "python",
   "name": "python3"
  },
  "language_info": {
   "codemirror_mode": {
    "name": "ipython",
    "version": 3
   },
   "file_extension": ".py",
   "mimetype": "text/x-python",
   "name": "python",
   "nbconvert_exporter": "python",
   "pygments_lexer": "ipython3",
   "version": "3.9.7"
  }
 },
 "nbformat": 4,
 "nbformat_minor": 5
}
